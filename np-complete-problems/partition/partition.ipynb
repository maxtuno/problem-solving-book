{
 "cells": [
  {
   "cell_type": "markdown",
   "metadata": {},
   "source": [
    "# Partition Problem\n",
    "\n",
    "Given a finite set $A$, and a size $s(a)\\in\\mathbb{Z}^+$ for each $a\\in A$, is there a subset $A^{'}\\subseteq A$, such that $\\Sigma_{a\\in A}s(a) = \\Sigma_{a\\in A-A^{'}}s(a)$."
   ]
  },
  {
   "cell_type": "code",
   "execution_count": 11,
   "metadata": {},
   "outputs": [],
   "source": [
    "import time\n",
    "import random\n",
    "import peqnp\n",
    "import matplotlib.pyplot as plt"
   ]
  },
  {
   "cell_type": "markdown",
   "metadata": {},
   "source": [
    "The $size$ and $bits$ for the sample set."
   ]
  },
  {
   "cell_type": "code",
   "execution_count": 12,
   "metadata": {},
   "outputs": [],
   "source": [
    "bits = 10\n",
    "size = 100"
   ]
  },
  {
   "cell_type": "markdown",
   "metadata": {},
   "source": [
    "The data generator and ploter of data"
   ]
  },
  {
   "cell_type": "code",
   "execution_count": 13,
   "metadata": {},
   "outputs": [],
   "source": [
    "def plot(S, c=None):\n",
    "    for s in S:\n",
    "        if c:\n",
    "            plt.bar(s, s, color=c, alpha=0.7)\n",
    "        else:\n",
    "            plt.bar(s, s, color='g', alpha=0.7)\n",
    "\n",
    "def gen_data():\n",
    "    if size % 2 != 0:\n",
    "        raise Exception('Error: size != 0 mod 2')\n",
    "    return sorted([random.randint(1, 2 ** bits) for _ in range(size)])"
   ]
  },
  {
   "cell_type": "markdown",
   "metadata": {},
   "source": [
    "Generate the the sample set."
   ]
  },
  {
   "cell_type": "code",
   "execution_count": 14,
   "metadata": {},
   "outputs": [
    {
     "name": "stdout",
     "output_type": "stream",
     "text": [
      "[7, 15, 16, 23, 47, 49, 64, 88, 88, 93, 95, 109, 118, 126, 130, 130, 158, 162, 163, 193, 202, 213, 216, 217, 223, 224, 226, 233, 281, 302, 302, 308, 310, 318, 323, 324, 330, 336, 349, 367, 368, 373, 395, 402, 407, 414, 425, 428, 440, 441, 453, 462, 489, 497, 512, 518, 523, 529, 535, 541, 541, 544, 570, 586, 614, 628, 636, 640, 643, 648, 663, 684, 706, 733, 752, 755, 756, 757, 772, 785, 786, 793, 805, 805, 813, 827, 830, 836, 841, 842, 859, 865, 883, 884, 892, 897, 920, 921, 999, 1011]\n"
     ]
    },
    {
     "data": {
      "image/png": "[encoded data removed]",
      "text/plain": [
       "<Figure size 432x288 with 1 Axes>"
      ]
     },
     "metadata": {
      "needs_background": "light"
     },
     "output_type": "display_data"
    }
   ],
   "source": [
    "S = gen_data();\n",
    "plot(S)\n",
    "print(S)"
   ]
  },
  {
   "cell_type": "markdown",
   "metadata": {},
   "source": [
    "Solution with **The Core** and **SLIME** SAT Solver."
   ]
  },
  {
   "cell_type": "code",
   "execution_count": 15,
   "metadata": {},
   "outputs": [
    {
     "name": "stdout",
     "output_type": "stream",
     "text": [
      "23676 [16, 88, 93, 109, 126, 130, 130, 162, 163, 193, 202, 217, 224, 281, 302, 302, 310, 318, 323, 336, 367, 402, 414, 453, 489, 497, 512, 518, 523, 529, 544, 570, 586, 614, 640, 684, 733, 755, 756, 757, 772, 785, 786, 793, 805, 827, 830, 892, 897, 921]\n",
      "23676 [7, 15, 23, 47, 49, 64, 88, 95, 118, 158, 213, 216, 223, 226, 233, 308, 324, 330, 349, 368, 373, 395, 407, 425, 428, 440, 441, 462, 535, 541, 541, 628, 636, 643, 648, 663, 706, 752, 805, 813, 836, 841, 842, 859, 865, 883, 884, 920, 999, 1011]\n",
      "Time 5.09574818611145s\n"
     ]
    },
    {
     "data": {
      "image/png": "[encoded data removed]",
      "text/plain": [
       "<Figure size 432x288 with 1 Axes>"
      ]
     },
     "metadata": {
      "needs_background": "light"
     },
     "output_type": "display_data"
    }
   ],
   "source": [
    "tc = peqnp.TheCore(bits=sum(S).bit_length(), key='partition', folder='/Volumes/RAM/')\n",
    "\n",
    "slots = tc.int(size=len(S))\n",
    "\n",
    "ini = time.time()\n",
    "\n",
    "assert sum(tc.zero.iff(slots[i], S[i]) for i in range(len(S))) == sum(tc.zero.iff(-slots[i], S[i]) for i in range(len(S)))\n",
    "\n",
    "if tc.satisfy([slots]):\n",
    "    A = [S[i] for i in range(len(S)) if slots.binary[i]]\n",
    "    B = [S[i] for i in range(len(S)) if not slots.binary[i]]\n",
    "    if sum(A) == sum(B):\n",
    "        print(sum(A), A)\n",
    "        print(sum(B), B)\n",
    "        plot(A, 'r')\n",
    "        plot(B, 'b')\n",
    "    else:\n",
    "        raise Exception\n",
    "elif tc.unsat:\n",
    "    print('Infeasible...')\n",
    "    \n",
    "end = time.time()\n",
    "print('Time {}s'.format(end - ini))"
   ]
  }
 ],
 "metadata": {
  "kernelspec": {
   "display_name": "Python 3",
   "language": "python",
   "name": "python3"
  },
  "language_info": {
   "codemirror_mode": {
    "name": "ipython",
    "version": 3
   },
   "file_extension": ".py",
   "mimetype": "text/x-python",
   "name": "python",
   "nbconvert_exporter": "python",
   "pygments_lexer": "ipython3",
   "version": "3.7.3"
  }
 },
 "nbformat": 4,
 "nbformat_minor": 2
}
