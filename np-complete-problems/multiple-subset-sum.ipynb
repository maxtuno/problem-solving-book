{
 "cells": [
  {
   "cell_type": "markdown",
   "metadata": {},
   "source": [
    "# Multiple Subset Sum\n",
    "\n",
    "Given sets $A_1, A_2,...,A_n$ there is $A^{'}_1\\subseteq A_1, A^{'}_2\\subseteq A_2,...,A^{'}_n\\subseteq A_n$ such that $\\Sigma A^{'}_1 = \\Sigma A^{'}_2 = ... = \\Sigma A^{'}_n$?"
   ]
  },
  {
   "cell_type": "code",
   "execution_count": null,
   "metadata": {},
   "outputs": [],
   "source": [
    "!pip install git+https://github.com/maxtuno/peqnp-lib"
   ]
  },
  {
   "cell_type": "code",
   "execution_count": null,
   "metadata": {},
   "outputs": [],
   "source": [
    "import random\n",
    "import peqnp"
   ]
  },
  {
   "cell_type": "code",
   "execution_count": null,
   "metadata": {},
   "outputs": [],
   "source": [
    "n = 4\n",
    "bits = 16\n",
    "size = 100\n",
    "\n",
    "AA = []\n",
    "for _ in range(n):\n",
    "    AA.append([random.randint(1, 2 ** bits) for _ in range(size)])\n",
    "    print(AA[-1])"
   ]
  },
  {
   "cell_type": "code",
   "execution_count": null,
   "metadata": {},
   "outputs": [],
   "source": [
    "tc = peqnp.TheCore(bits=32, key='mss', folder='db/')\n",
    "\n",
    "X = []\n",
    "for i in range(n):\n",
    "    X.append(tc.subset(len(AA[i]), AA[i], tc.zero))\n",
    "\n",
    "tc.apply(X, dual=lambda xs, ys: sum(xs) == sum(ys))\n",
    "\n",
    "if tc.satisfy(tc.flatten(X)):\n",
    "    for xs in X:\n",
    "        print(sum(xs), [x for x in tc.values(xs) if x])\n",
    "    print()\n",
    "elif tc.unsat:\n",
    "    print('Infeasible...')"
   ]
  },
  {
   "cell_type": "code",
   "execution_count": null,
   "metadata": {},
   "outputs": [],
   "source": []
  }
 ],
 "metadata": {
  "kernelspec": {
   "display_name": "Python 3",
   "language": "python",
   "name": "python3"
  },
  "language_info": {
   "codemirror_mode": {
    "name": "ipython",
    "version": 3
   },
   "file_extension": ".py",
   "mimetype": "text/x-python",
   "name": "python",
   "nbconvert_exporter": "python",
   "pygments_lexer": "ipython3",
   "version": "3.7.3"
  }
 },
 "nbformat": 4,
 "nbformat_minor": 4
}
