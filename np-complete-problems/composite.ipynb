{
 "cells": [
  {
   "cell_type": "markdown",
   "metadata": {},
   "source": [
    "# Composite Number\n",
    "\n",
    "Given a positive number $n$ are there numbers $p,q$ > 1 such that $n = pq$. ($NP\\cap coNP$)"
   ]
  },
  {
   "cell_type": "code",
   "execution_count": null,
   "metadata": {},
   "outputs": [],
   "source": [
    "import peqnp"
   ]
  },
  {
   "cell_type": "code",
   "execution_count": null,
   "metadata": {},
   "outputs": [],
   "source": [
    "ns = [931989671, 793790160971, 7377772799, 9229538041]"
   ]
  },
  {
   "cell_type": "code",
   "execution_count": null,
   "metadata": {},
   "outputs": [],
   "source": [
    "for n in ns:\n",
    "    tc = peqnp.TheCore(bits=n.bit_length(), key='composite', folder='db/')\n",
    "\n",
    "    p = tc.int()\n",
    "    q = tc.int()\n",
    "\n",
    "    assert p*q == n\n",
    "    assert p > 1\n",
    "    assert q > 1\n",
    "\n",
    "    if tc.satisfy([p, q]):\n",
    "        print('{} = {}*{}'.format(n, p, q))\n",
    "    elif tc.unsat:\n",
    "        print('{} is prime...'.format(n))"
   ]
  },
  {
   "cell_type": "code",
   "execution_count": null,
   "metadata": {},
   "outputs": [],
   "source": []
  }
 ],
 "metadata": {
  "kernelspec": {
   "display_name": "Python 3",
   "language": "python",
   "name": "python3"
  },
  "language_info": {
   "codemirror_mode": {
    "name": "ipython",
    "version": 3
   },
   "file_extension": ".py",
   "mimetype": "text/x-python",
   "name": "python",
   "nbconvert_exporter": "python",
   "pygments_lexer": "ipython3",
   "version": "3.7.3"
  }
 },
 "nbformat": 4,
 "nbformat_minor": 2
}
