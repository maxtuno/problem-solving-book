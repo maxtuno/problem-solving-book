{
 "cells": [
  {
   "cell_type": "markdown",
   "metadata": {},
   "source": [
    "# Composite Number\n",
    "\n",
    "Given a positive number $n$ are there numbers $p,q$ > 1 such that $n = pq$. ($NP\\cap coNP$)"
   ]
  },
  {
   "cell_type": "code",
   "execution_count": 12,
   "metadata": {},
   "outputs": [],
   "source": [
    "import peqnp"
   ]
  },
  {
   "cell_type": "code",
   "execution_count": 13,
   "metadata": {},
   "outputs": [],
   "source": [
    "ns = [931989671, 793790160971, 7377772799, 9229538041]"
   ]
  },
  {
   "cell_type": "code",
   "execution_count": 14,
   "metadata": {},
   "outputs": [
    {
     "name": "stdout",
     "output_type": "stream",
     "text": [
      "931989671 = 63113*14767\n",
      "793790160971 = 1854247*428093\n",
      "7377772799 is prime...\n",
      "9229538041 is prime...\n"
     ]
    }
   ],
   "source": [
    "for n in ns:\n",
    "    tc = peqnp.TheCore(bits=n.bit_length(), key='composite', folder='/Volumes/RAM/')\n",
    "\n",
    "    p = tc.int()\n",
    "    q = tc.int()\n",
    "\n",
    "    assert p*q == n\n",
    "    assert p > 1\n",
    "    assert q > 1\n",
    "\n",
    "    if tc.satisfy([p, q]):\n",
    "        print('{} = {}*{}'.format(n, p, q))\n",
    "    elif tc.unsat:\n",
    "        print('{} is prime...'.format(n))"
   ]
  }
 ],
 "metadata": {
  "kernelspec": {
   "display_name": "Python 3",
   "language": "python",
   "name": "python3"
  },
  "language_info": {
   "codemirror_mode": {
    "name": "ipython",
    "version": 3
   },
   "file_extension": ".py",
   "mimetype": "text/x-python",
   "name": "python",
   "nbconvert_exporter": "python",
   "pygments_lexer": "ipython3",
   "version": "3.7.3"
  }
 },
 "nbformat": 4,
 "nbformat_minor": 2
}
