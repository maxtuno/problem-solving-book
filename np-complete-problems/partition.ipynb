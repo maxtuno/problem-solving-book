{
 "cells": [
  {
   "cell_type": "markdown",
   "metadata": {},
   "source": [
    "# Partition Problem\n",
    "\n",
    "Given a finite set $A$, and a size $s(a)\\in\\mathbb{Z}^+$ for each $a\\in A$, is there a subset $A^{'}\\subseteq A$, such that $\\Sigma_{a\\in A}s(a) = \\Sigma_{a\\in A-A^{'}}s(a)$."
   ]
  },
  {
   "cell_type": "code",
   "execution_count": null,
   "metadata": {},
   "outputs": [],
   "source": [
    "!pip install matplotlib"
   ]
  },
  {
   "cell_type": "code",
   "execution_count": 1,
   "metadata": {},
   "outputs": [],
   "source": [
    "import time\n",
    "import random\n",
    "import peqnp\n",
    "import matplotlib.pyplot as plt"
   ]
  },
  {
   "cell_type": "markdown",
   "metadata": {},
   "source": [
    "The $size$ and $bits$ for the sample set."
   ]
  },
  {
   "cell_type": "code",
   "execution_count": 2,
   "metadata": {},
   "outputs": [],
   "source": [
    "bits = 10\n",
    "size = 100"
   ]
  },
  {
   "cell_type": "markdown",
   "metadata": {},
   "source": [
    "The data generator and ploter of data"
   ]
  },
  {
   "cell_type": "code",
   "execution_count": 3,
   "metadata": {},
   "outputs": [],
   "source": [
    "def plot(S, c=None):\n",
    "    for s in S:\n",
    "        if c:\n",
    "            plt.bar(s, s, color=c, alpha=0.7)\n",
    "        else:\n",
    "            plt.bar(s, s, color='g', alpha=0.7)\n",
    "    plt.show()\n",
    "def gen_data():\n",
    "    if size % 2 != 0:\n",
    "        raise Exception('Error: size != 0 mod 2')\n",
    "    return sorted([random.randint(1, 2 ** bits) for _ in range(size)])"
   ]
  },
  {
   "cell_type": "markdown",
   "metadata": {},
   "source": [
    "Generate the the sample set."
   ]
  },
  {
   "cell_type": "code",
   "execution_count": 4,
   "metadata": {},
   "outputs": [
    {
     "data": {
      "image/png": "[encoded data removed]",
      "text/plain": [
       "<Figure size 432x288 with 1 Axes>"
      ]
     },
     "metadata": {
      "needs_background": "light"
     },
     "output_type": "display_data"
    },
    {
     "name": "stdout",
     "output_type": "stream",
     "text": [
      "[29, 30, 30, 51, 56, 58, 68, 98, 107, 109, 112, 121, 134, 143, 154, 155, 172, 176, 186, 189, 237, 242, 245, 255, 266, 308, 313, 320, 327, 343, 361, 372, 379, 384, 406, 409, 420, 432, 449, 460, 467, 472, 482, 483, 498, 507, 508, 523, 559, 564, 575, 578, 580, 582, 586, 591, 595, 608, 609, 619, 619, 620, 633, 649, 649, 684, 688, 693, 695, 706, 711, 716, 720, 732, 740, 744, 747, 762, 778, 789, 812, 827, 842, 848, 853, 864, 865, 872, 900, 907, 912, 949, 964, 974, 990, 1001, 1005, 1012, 1019, 1019]\n"
     ]
    }
   ],
   "source": [
    "S = gen_data();\n",
    "plot(S)\n",
    "print(S)"
   ]
  },
  {
   "cell_type": "markdown",
   "metadata": {},
   "source": [
    "Solution with **The Core** and **SLIME** SAT Solver."
   ]
  },
  {
   "cell_type": "code",
   "execution_count": 5,
   "metadata": {},
   "outputs": [
    {
     "name": "stdout",
     "output_type": "stream",
     "text": [
      "26301 [143, 172, 176, 186, 242, 266, 308, 313, 320, 361, 372, 379, 384, 432, 449, 460, 472, 482, 498, 507, 508, 559, 578, 580, 582, 608, 609, 619, 620, 633, 684, 693, 706, 716, 720, 740, 747, 842, 848, 864, 949, 964, 974, 1005, 1012, 1019]\n",
      "26301 [29, 30, 30, 51, 56, 58, 68, 98, 107, 109, 112, 121, 134, 154, 155, 189, 237, 245, 255, 327, 343, 406, 409, 420, 467, 483, 523, 564, 575, 586, 591, 595, 619, 649, 649, 688, 695, 711, 732, 744, 762, 778, 789, 812, 827, 853, 865, 872, 900, 907, 912, 990, 1001, 1019]\n"
     ]
    },
    {
     "data": {
      "image/png": "[encoded data removed]",
      "text/plain": [
       "<Figure size 432x288 with 1 Axes>"
      ]
     },
     "metadata": {
      "needs_background": "light"
     },
     "output_type": "display_data"
    },
    {
     "data": {
      "image/png": "[encoded data removed]",
      "text/plain": [
       "<Figure size 432x288 with 1 Axes>"
      ]
     },
     "metadata": {
      "needs_background": "light"
     },
     "output_type": "display_data"
    },
    {
     "name": "stdout",
     "output_type": "stream",
     "text": [
      "Time 5.386812925338745s\n"
     ]
    }
   ],
   "source": [
    "tc = peqnp.TheCore(bits=sum(S).bit_length(), key='partition', folder='db/')\n",
    "\n",
    "slots = tc.int(size=len(S))\n",
    "\n",
    "ini = time.time()\n",
    "\n",
    "assert sum(tc.zero.iff(slots[i], S[i]) for i in range(len(S))) == sum(tc.zero.iff(-slots[i], S[i]) for i in range(len(S)))\n",
    "\n",
    "if tc.satisfy([slots]):\n",
    "    A = [S[i] for i in range(len(S)) if slots.binary[i]]\n",
    "    B = [S[i] for i in range(len(S)) if not slots.binary[i]]\n",
    "    if sum(A) == sum(B):\n",
    "        print(sum(A), A)\n",
    "        print(sum(B), B)\n",
    "        plot(A, 'r')\n",
    "        plot(B, 'b')\n",
    "    else:\n",
    "        raise Exception\n",
    "elif tc.unsat:\n",
    "    print('Infeasible...')\n",
    "    \n",
    "end = time.time()\n",
    "print('Time {}s'.format(end - ini))"
   ]
  },
  {
   "cell_type": "code",
   "execution_count": null,
   "metadata": {},
   "outputs": [],
   "source": []
  }
 ],
 "metadata": {
  "kernelspec": {
   "display_name": "Python 3",
   "language": "python",
   "name": "python3"
  },
  "language_info": {
   "codemirror_mode": {
    "name": "ipython",
    "version": 3
   },
   "file_extension": ".py",
   "mimetype": "text/x-python",
   "name": "python",
   "nbconvert_exporter": "python",
   "pygments_lexer": "ipython3",
   "version": "3.7.3"
  }
 },
 "nbformat": 4,
 "nbformat_minor": 2
}
