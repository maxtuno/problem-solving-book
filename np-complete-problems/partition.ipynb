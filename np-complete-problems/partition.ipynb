{
 "cells": [
  {
   "cell_type": "markdown",
   "metadata": {},
   "source": [
    "# Partition Problem\n",
    "\n",
    "Given a finite set $A$, and a size $s(a)\\in\\mathbb{Z}^+$ for each $a\\in A$, is there a subset $A^{'}\\subseteq A$, such that $\\Sigma_{a\\in A}s(a) = \\Sigma_{a\\in A-A^{'}}s(a)$."
   ]
  },
  {
   "cell_type": "code",
   "execution_count": null,
   "metadata": {},
   "outputs": [],
   "source": [
    "!pip install git+https://github.com/maxtuno/peqnp-lib\n",
    "!pip install matplotlib"
   ]
  },
  {
   "cell_type": "code",
   "execution_count": 17,
   "metadata": {},
   "outputs": [],
   "source": [
    "import time\n",
    "import random\n",
    "import peqnp\n",
    "import matplotlib.pyplot as plt"
   ]
  },
  {
   "cell_type": "markdown",
   "metadata": {},
   "source": [
    "The $size$ and $bits$ for the sample set."
   ]
  },
  {
   "cell_type": "code",
   "execution_count": 18,
   "metadata": {},
   "outputs": [],
   "source": [
    "bits = 10\n",
    "size = 100"
   ]
  },
  {
   "cell_type": "markdown",
   "metadata": {},
   "source": [
    "The data generator and ploter of data"
   ]
  },
  {
   "cell_type": "code",
   "execution_count": 19,
   "metadata": {},
   "outputs": [],
   "source": [
    "def plot(S, c=None):\n",
    "    for s in S:\n",
    "        if c:\n",
    "            plt.bar(s, s, color=c, alpha=0.7)\n",
    "        else:\n",
    "            plt.bar(s, s, color='g', alpha=0.7)\n",
    "    plt.show()\n",
    "def gen_data():\n",
    "    if size % 2 != 0:\n",
    "        raise Exception('Error: size != 0 mod 2')\n",
    "    return sorted([random.randint(1, 2 ** bits) for _ in range(size)])"
   ]
  },
  {
   "cell_type": "markdown",
   "metadata": {},
   "source": [
    "Generate the the sample set."
   ]
  },
  {
   "cell_type": "code",
   "execution_count": 20,
   "metadata": {},
   "outputs": [
    {
     "data": {
      "image/png": "[encoded data removed]",
      "text/plain": [
       "<Figure size 432x288 with 1 Axes>"
      ]
     },
     "metadata": {
      "needs_background": "light"
     },
     "output_type": "display_data"
    },
    {
     "name": "stdout",
     "output_type": "stream",
     "text": [
      "[3, 8, 17, 36, 41, 45, 60, 71, 77, 85, 86, 89, 90, 103, 106, 114, 116, 135, 140, 147, 169, 171, 201, 207, 211, 224, 255, 272, 276, 283, 290, 297, 302, 307, 316, 317, 317, 323, 328, 336, 338, 342, 345, 350, 382, 383, 383, 385, 390, 402, 415, 423, 429, 450, 460, 468, 472, 479, 481, 556, 560, 612, 614, 617, 627, 634, 634, 649, 662, 685, 700, 719, 725, 740, 762, 767, 796, 814, 827, 846, 852, 857, 878, 878, 884, 892, 893, 893, 899, 908, 914, 950, 953, 957, 966, 971, 975, 987, 1005, 1008]\n"
     ]
    }
   ],
   "source": [
    "S = gen_data();\n",
    "plot(S)\n",
    "print(S)"
   ]
  },
  {
   "cell_type": "markdown",
   "metadata": {},
   "source": [
    "Solution with **The Core** and **SLIME** SAT Solver."
   ]
  },
  {
   "cell_type": "code",
   "execution_count": 21,
   "metadata": {},
   "outputs": [
    {
     "name": "stdout",
     "output_type": "stream",
     "text": [
      "23907 [17, 36, 41, 85, 90, 106, 116, 135, 140, 147, 169, 171, 224, 255, 272, 276, 297, 302, 317, 317, 342, 345, 350, 383, 385, 390, 402, 429, 468, 472, 479, 481, 556, 560, 612, 617, 634, 634, 662, 685, 719, 762, 796, 814, 827, 857, 878, 950, 953, 957, 987, 1008]\n",
      "23907 [3, 8, 45, 60, 71, 77, 86, 89, 103, 114, 201, 207, 211, 283, 290, 307, 316, 323, 328, 336, 338, 382, 383, 415, 423, 450, 460, 614, 627, 649, 700, 725, 740, 767, 846, 852, 878, 884, 892, 893, 893, 899, 908, 914, 966, 971, 975, 1005]\n"
     ]
    },
    {
     "data": {
      "image/png": "[encoded data removed]",
      "text/plain": [
       "<Figure size 432x288 with 1 Axes>"
      ]
     },
     "metadata": {
      "needs_background": "light"
     },
     "output_type": "display_data"
    },
    {
     "data": {
      "image/png": "[encoded data removed]",
      "text/plain": [
       "<Figure size 432x288 with 1 Axes>"
      ]
     },
     "metadata": {
      "needs_background": "light"
     },
     "output_type": "display_data"
    },
    {
     "name": "stdout",
     "output_type": "stream",
     "text": [
      "Time 8.124551057815552s\n"
     ]
    }
   ],
   "source": [
    "tc = peqnp.TheCore(bits=sum(S).bit_length(), key='partition', folder='db/')\n",
    "\n",
    "slots = tc.int(size=len(S))\n",
    "\n",
    "ini = time.time()\n",
    "\n",
    "assert sum(tc.zero.iff(slots[i], S[i]) for i in range(len(S))) == sum(tc.zero.iff(-slots[i], S[i]) for i in range(len(S)))\n",
    "\n",
    "if tc.satisfy([slots]):\n",
    "    A = [S[i] for i in range(len(S)) if slots.binary[i]]\n",
    "    B = [S[i] for i in range(len(S)) if not slots.binary[i]]\n",
    "    if sum(A) == sum(B):\n",
    "        print(sum(A), A)\n",
    "        print(sum(B), B)\n",
    "        plot(A, 'r')\n",
    "        plot(B, 'b')\n",
    "    else:\n",
    "        raise Exception\n",
    "elif tc.unsat:\n",
    "    print('Infeasible...')\n",
    "    \n",
    "end = time.time()\n",
    "print('Time {}s'.format(end - ini))"
   ]
  },
  {
   "cell_type": "code",
   "execution_count": null,
   "metadata": {},
   "outputs": [],
   "source": []
  },
  {
   "cell_type": "code",
   "execution_count": null,
   "metadata": {},
   "outputs": [],
   "source": []
  }
 ],
 "metadata": {
  "kernelspec": {
   "display_name": "Python 3",
   "language": "python",
   "name": "python3"
  },
  "language_info": {
   "codemirror_mode": {
    "name": "ipython",
    "version": 3
   },
   "file_extension": ".py",
   "mimetype": "text/x-python",
   "name": "python",
   "nbconvert_exporter": "python",
   "pygments_lexer": "ipython3",
   "version": "3.7.3"
  }
 },
 "nbformat": 4,
 "nbformat_minor": 4
}
