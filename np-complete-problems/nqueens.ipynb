{
 "cells": [
  {
   "cell_type": "markdown",
   "metadata": {},
   "source": [
    "# n‑Queens completion problem\n",
    "\n",
    "https://www.theregister.co.uk/2017/09/01/p_vs_np_problem_near_impossible/\n",
    "    \n",
    "\"A paper published in the Journal of Artificial Intelligence Research describes the n‑Queens completion problem. It might be easy to understand, but it’s very difficult to solve in a practical sense. The goal is to place n queens on an n by n chessboard in a way that no two queens are ever on the same row or column, or diagonal to each other.\""
   ]
  },
  {
   "cell_type": "code",
   "execution_count": 85,
   "metadata": {},
   "outputs": [],
   "source": [
    "!pip install git+https://github.com/maxtuno/peqnp-lib"
   ]
  },
  {
   "cell_type": "code",
   "execution_count": 1,
   "metadata": {},
   "outputs": [],
   "source": [
    "import random\n",
    "import peqnp"
   ]
  },
  {
   "cell_type": "code",
   "execution_count": 2,
   "metadata": {},
   "outputs": [],
   "source": [
    "def completion(n, m, seed):\n",
    "    \"\"\"\n",
    "    http://www.csplib.org/Problems/prob079/data/queens-gen-fast.py.html\n",
    "    \"\"\"\n",
    "    random.seed(seed)\n",
    "\n",
    "    d1 = [0 for _ in range(2 * n - 1)]\n",
    "    d2 = [0 for _ in range(2 * n - 1)]\n",
    "\n",
    "    valid_rows = [i for i in range(n)]\n",
    "    valid_cols = [j for j in range(n)]\n",
    "\n",
    "    def no_attack(r, c):\n",
    "        return d1[r + c] == 0 and d2[r - c + n - 1] == 0\n",
    "\n",
    "    placed_queens = []\n",
    "    queens_left = n\n",
    "\n",
    "    for attempt in range(n * n):\n",
    "        i = random.randrange(queens_left)\n",
    "        j = random.randrange(queens_left)\n",
    "        r = valid_rows[i]\n",
    "        c = valid_cols[j]\n",
    "        if no_attack(r, c):\n",
    "            placed_queens.append([r, c])\n",
    "            d1[r + c] = 1\n",
    "            d2[r - c + n - 1] = 1\n",
    "            valid_rows[i] = valid_rows[queens_left - 1]\n",
    "            valid_cols[j] = valid_cols[queens_left - 1]\n",
    "            queens_left -= 1\n",
    "            if len(placed_queens) == m:\n",
    "                return [[x + 1, y + 1] for x, y in placed_queens]\n",
    "            \n",
    "def show(placed_queens):\n",
    "    print('# seed = {}'.format(seed))\n",
    "    table = ''\n",
    "    for i in range(1, n + 1):\n",
    "        table += '# '\n",
    "        for j in range(1, n + 1):\n",
    "            if [i, j] not in placed_queens:\n",
    "                table += '. '\n",
    "            else:\n",
    "                table += 'Q '\n",
    "        table += '\\n'\n",
    "    print(table)"
   ]
  },
  {
   "cell_type": "code",
   "execution_count": 3,
   "metadata": {},
   "outputs": [],
   "source": [
    "n, m, seed = 30, 17, random.random()"
   ]
  },
  {
   "cell_type": "code",
   "execution_count": 4,
   "metadata": {},
   "outputs": [
    {
     "name": "stdout",
     "output_type": "stream",
     "text": [
      "# seed = 0.965116845312239\n",
      "# . . . . . . . . . . . . . . . . . . . . . . . . . . . . . . \n",
      "# . . . . . . . . . . . . . . . . . . . . . . . . . . . . . . \n",
      "# . . . . . . . . . . . . . . . . . . . . . . . . . . . . Q . \n",
      "# . . . . . . . . . . . . . . . . . . . . . . . . . . . . . . \n",
      "# . . . . . . . . . . . . . . . . . . . . . . . . . . . . . . \n",
      "# . . . . . . . . . . . . . . . . . . Q . . . . . . . . . . . \n",
      "# . . . . . . . . . . . . . . . . . . . . . . . . . . . . . . \n",
      "# . . . . . . . . . . . . . . . . . . . . . . . . . . . . . . \n",
      "# . . . Q . . . . . . . . . . . . . . . . . . . . . . . . . . \n",
      "# . Q . . . . . . . . . . . . . . . . . . . . . . . . . . . . \n",
      "# . . . . . . . . . . . . . . . . . Q . . . . . . . . . . . . \n",
      "# . . . . . . . . . . . . . . . . . . . . . . . . . Q . . . . \n",
      "# . . . . . . . . . . . . . . . . . . . . . . . . . . . . . . \n",
      "# . . Q . . . . . . . . . . . . . . . . . . . . . . . . . . . \n",
      "# . . . . . . . . . . . . . . . . . . . . . . . Q . . . . . . \n",
      "# . . . . . . . . . . . . . . . . . . . . . . . . . . . . . . \n",
      "# . . . . . . . . . . . . . . . . . . . . . . . . . . . . . . \n",
      "# . . . . . . . . . . . . . . . . . . . . . . . . . . . . . . \n",
      "# . . . . . . . . . . . . . . . . . . . . . . . . . . Q . . . \n",
      "# . . . . . . . . . . . . . . . . . . . . . . . . . . . . . Q \n",
      "# Q . . . . . . . . . . . . . . . . . . . . . . . . . . . . . \n",
      "# . . . . . . . . . . . . . . . . . . . . . . . . Q . . . . . \n",
      "# . . . . . . . . . . . . . . . . . . . . . . . . . . . . . . \n",
      "# . . . . . . . . . . . . . . . . . . . . . . . . . . . Q . . \n",
      "# . . . . . . . . . . . . . . Q . . . . . . . . . . . . . . . \n",
      "# . . . . . . . . Q . . . . . . . . . . . . . . . . . . . . . \n",
      "# . . . . . . . . . . . . . . . . . . . . . . . . . . . . . . \n",
      "# . . . . Q . . . . . . . . . . . . . . . . . . . . . . . . . \n",
      "# . . . . . . . . . . . . . . . . . . . . . . . . . . . . . . \n",
      "# . . . . . . . . . . . Q . . . . . . . . . . . . . . . . . . \n",
      "\n"
     ]
    }
   ],
   "source": [
    "placed_queens = completion(n, m, seed)\n",
    "show(placed_queens)"
   ]
  },
  {
   "cell_type": "code",
   "execution_count": null,
   "metadata": {},
   "outputs": [
    {
     "name": "stdout",
     "output_type": "stream",
     "text": [
      ". . . . . . . . . . . . . . . . . . . . . Q . . . . . . . . \n",
      ". . . . . . . . . . . . . . . . Q . . . . . . . . . . . . . \n",
      ". . . . . . . . . . . . . . . . . . . . . . . . . . . . Q . \n",
      ". . . . . . . . . . . . . . . Q . . . . . . . . . . . . . . \n",
      ". . . . . . . . . . Q . . . . . . . . . . . . . . . . . . . \n",
      ". . . . . . . . . . . . . . . . . . Q . . . . . . . . . . . \n",
      ". . . . . . . . . . . . . . . . . . . . . . Q . . . . . . . \n",
      ". . . . . . Q . . . . . . . . . . . . . . . . . . . . . . . \n",
      ". . . Q . . . . . . . . . . . . . . . . . . . . . . . . . . \n",
      ". Q . . . . . . . . . . . . . . . . . . . . . . . . . . . . \n",
      ". . . . . . . . . . . . . . . . . Q . . . . . . . . . . . . \n",
      ". . . . . . . . . . . . . . . . . . . . . . . . . Q . . . . \n",
      ". . . . . . . . . . . . Q . . . . . . . . . . . . . . . . . \n",
      ". . Q . . . . . . . . . . . . . . . . . . . . . . . . . . . \n",
      ". . . . . . . . . . . . . . . . . . . . . . . Q . . . . . . \n",
      ". . . . . . . . . . . . . . . . . . . . Q . . . . . . . . . \n",
      ". . . . . . . . . Q . . . . . . . . . . . . . . . . . . . . \n",
      ". . . . . Q . . . . . . . . . . . . . . . . . . . . . . . . \n",
      ". . . . . . . . . . . . . . . . . . . . . . . . . . Q . . . \n",
      ". . . . . . . . . . . . . . . . . . . . . . . . . . . . . Q \n",
      "Q . . . . . . . . . . . . . . . . . . . . . . . . . . . . . \n",
      ". . . . . . . . . . . . . . . . . . . . . . . . Q . . . . . \n",
      ". . . . . . . Q . . . . . . . . . . . . . . . . . . . . . . \n",
      ". . . . . . . . . . . . . . . . . . . . . . . . . . . Q . . \n",
      ". . . . . . . . . . . . . . Q . . . . . . . . . . . . . . . \n",
      ". . . . . . . . Q . . . . . . . . . . . . . . . . . . . . . \n",
      ". . . . . . . . . . . . . Q . . . . . . . . . . . . . . . . \n",
      ". . . . Q . . . . . . . . . . . . . . . . . . . . . . . . . \n",
      ". . . . . . . . . . . . . . . . . . . Q . . . . . . . . . . \n",
      ". . . . . . . . . . . Q . . . . . . . . . . . . . . . . . . \n",
      "\n",
      ". . . . . . . . . . . . . . . . Q . . . . . . . . . . . . . \n",
      ". . . . . . . . . . . . . . . . . . . . . Q . . . . . . . . \n",
      ". . . . . . . . . . . . . . . . . . . . . . . . . . . . Q . \n",
      ". . . . . . . . . . . . . . . . . . . . . . Q . . . . . . . \n",
      ". . . . . Q . . . . . . . . . . . . . . . . . . . . . . . . \n",
      ". . . . . . . . . . . . . . . . . . Q . . . . . . . . . . . \n",
      ". . . . . . . . . . . . Q . . . . . . . . . . . . . . . . . \n",
      ". . . . . . . Q . . . . . . . . . . . . . . . . . . . . . . \n",
      ". . . Q . . . . . . . . . . . . . . . . . . . . . . . . . . \n",
      ". Q . . . . . . . . . . . . . . . . . . . . . . . . . . . . \n",
      ". . . . . . . . . . . . . . . . . Q . . . . . . . . . . . . \n",
      ". . . . . . . . . . . . . . . . . . . . . . . . . Q . . . . \n",
      ". . . . . . . . . Q . . . . . . . . . . . . . . . . . . . . \n",
      ". . Q . . . . . . . . . . . . . . . . . . . . . . . . . . . \n",
      ". . . . . . . . . . . . . . . . . . . . . . . Q . . . . . . \n",
      ". . . . . . . . . . . . . . . . . . . . Q . . . . . . . . . \n",
      ". . . . . . . . . . Q . . . . . . . . . . . . . . . . . . . \n",
      ". . . . . . . . . . . . . . . Q . . . . . . . . . . . . . . \n",
      ". . . . . . . . . . . . . . . . . . . . . . . . . . Q . . . \n",
      ". . . . . . . . . . . . . . . . . . . . . . . . . . . . . Q \n",
      "Q . . . . . . . . . . . . . . . . . . . . . . . . . . . . . \n",
      ". . . . . . . . . . . . . . . . . . . . . . . . Q . . . . . \n",
      ". . . . . . Q . . . . . . . . . . . . . . . . . . . . . . . \n",
      ". . . . . . . . . . . . . . . . . . . . . . . . . . . Q . . \n",
      ". . . . . . . . . . . . . . Q . . . . . . . . . . . . . . . \n",
      ". . . . . . . . Q . . . . . . . . . . . . . . . . . . . . . \n",
      ". . . . . . . . . . . . . Q . . . . . . . . . . . . . . . . \n",
      ". . . . Q . . . . . . . . . . . . . . . . . . . . . . . . . \n",
      ". . . . . . . . . . . . . . . . . . . Q . . . . . . . . . . \n",
      ". . . . . . . . . . . Q . . . . . . . . . . . . . . . . . . \n",
      "\n"
     ]
    }
   ],
   "source": [
    "tc = peqnp.TheCore(bits=2 * n.bit_length(), key='nqueens', folder='db/')\n",
    "\n",
    "qs = tc.array(n)\n",
    "\n",
    "for (a, b) in placed_queens:\n",
    "    assert qs[a - 1] == b - 1\n",
    "\n",
    "tc.apply(qs, single=lambda x: x < n)\n",
    "tc.apply(qs, dual=lambda x, y: x != y)\n",
    "tc.apply([qs[i] + i for i in range(n)], dual=lambda x, y: x != y)\n",
    "tc.apply([qs[i] - i for i in range(n)], dual=lambda x, y: x != y)\n",
    "\n",
    "unsat = True\n",
    "while tc.satisfy(qs):\n",
    "    unsat = False\n",
    "    for i in range(n):\n",
    "        print(''.join(['Q ' if qs[i] == j else '. ' for j in range(n)]))\n",
    "    print()\n",
    "if unsat:\n",
    "    print('Infeasible...')"
   ]
  },
  {
   "cell_type": "code",
   "execution_count": null,
   "metadata": {},
   "outputs": [],
   "source": []
  }
 ],
 "metadata": {
  "kernelspec": {
   "display_name": "Python 3",
   "language": "python",
   "name": "python3"
  },
  "language_info": {
   "codemirror_mode": {
    "name": "ipython",
    "version": 3
   },
   "file_extension": ".py",
   "mimetype": "text/x-python",
   "name": "python",
   "nbconvert_exporter": "python",
   "pygments_lexer": "ipython3",
   "version": "3.7.3"
  }
 },
 "nbformat": 4,
 "nbformat_minor": 4
}
