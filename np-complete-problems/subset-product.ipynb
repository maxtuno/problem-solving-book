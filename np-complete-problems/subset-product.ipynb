{
 "cells": [
  {
   "cell_type": "markdown",
   "metadata": {},
   "source": [
    "# Subset Product\n",
    "\n",
    "Given a finite ser $A$, a size $s(a)\\in \\mathbb{Z}^{+}$ foreach $a \\in A$, is there a subset $A^{'} \\subseteq A$ such that the product of sizes of the elements of $A^{'}$ is exactly B?"
   ]
  },
  {
   "cell_type": "code",
   "execution_count": 20,
   "metadata": {},
   "outputs": [],
   "source": [
    "!pip install git+https://github.com/maxtuno/peqnp-lib"
   ]
  },
  {
   "cell_type": "code",
   "execution_count": null,
   "metadata": {},
   "outputs": [],
   "source": [
    "import functools\n",
    "import operator\n",
    "import random\n",
    "import peqnp"
   ]
  },
  {
   "cell_type": "code",
   "execution_count": 21,
   "metadata": {},
   "outputs": [],
   "source": [
    "bits = 8\n",
    "size = 24"
   ]
  },
  {
   "cell_type": "code",
   "execution_count": 22,
   "metadata": {},
   "outputs": [],
   "source": [
    "def mul(S):\n",
    "    return functools.reduce(operator.mul, S)\n",
    "\n",
    "def gen_data():\n",
    "    A = [random.randint(2, 2 ** bits) for _ in range(size)]\n",
    "    B = mul(random.sample(A, k=size//2))\n",
    "    return B, A"
   ]
  },
  {
   "cell_type": "code",
   "execution_count": 23,
   "metadata": {},
   "outputs": [
    {
     "name": "stdout",
     "output_type": "stream",
     "text": [
      "1252499059794949354192896 [26, 153, 8, 248, 229, 156, 134, 110, 183, 63, 20, 46, 52, 124, 252, 72, 234, 222, 91, 74, 60, 104, 238, 217]\n"
     ]
    }
   ],
   "source": [
    "B, A = gen_data()\n",
    "print(B, A)"
   ]
  },
  {
   "cell_type": "code",
   "execution_count": 24,
   "metadata": {},
   "outputs": [
    {
     "name": "stdout",
     "output_type": "stream",
     "text": [
      "1252499059794949354192896 [153, 8, 156, 183, 52, 124, 72, 222, 91, 74, 238, 217]\n"
     ]
    }
   ],
   "source": [
    "tc = peqnp.TheCore(bits=mul(A).bit_length(), key='subset_product', folder='db/')\n",
    "\n",
    "slots = tc.int(size=size)\n",
    "\n",
    "assert mul(tc.one.iff(slots[i], A[i]) for i in range(size)) == B\n",
    "\n",
    "if tc.satisfy([slots]):\n",
    "    C = [A[i] for i in range(size) if slots.binary[i]]\n",
    "    if mul(C) == B:\n",
    "        print(mul(C), C)\n",
    "    else:\n",
    "        raise Exception\n",
    "elif tc.unsat:\n",
    "    print('Infeasible...')"
   ]
  }
 ],
 "metadata": {
  "kernelspec": {
   "display_name": "Python 3",
   "language": "python",
   "name": "python3"
  },
  "language_info": {
   "codemirror_mode": {
    "name": "ipython",
    "version": 3
   },
   "file_extension": ".py",
   "mimetype": "text/x-python",
   "name": "python",
   "nbconvert_exporter": "python",
   "pygments_lexer": "ipython3",
   "version": "3.7.3"
  }
 },
 "nbformat": 4,
 "nbformat_minor": 4
}
