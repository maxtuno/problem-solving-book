{
 "cells": [
  {
   "cell_type": "markdown",
   "metadata": {},
   "source": [
    "Solve the equation $x^2 + 7 = 2^n$ in integers. (Ljm. pp. 205)"
   ]
  },
  {
   "cell_type": "code",
   "execution_count": 1,
   "metadata": {},
   "outputs": [],
   "source": [
    "!pip install git+https://github.com/maxtuno/peqnp-lib"
   ]
  },
  {
   "cell_type": "code",
   "execution_count": null,
   "metadata": {},
   "outputs": [],
   "source": [
    "import peqnp"
   ]
  },
  {
   "cell_type": "code",
   "execution_count": 2,
   "metadata": {},
   "outputs": [
    {
     "name": "stdout",
     "output_type": "stream",
     "text": [
      "15 181\n",
      "7 11\n",
      "3 1\n",
      "5 5\n",
      "4 3\n"
     ]
    }
   ],
   "source": [
    "tc = peqnp.TheCore(bits=32, deepness=16, key='h3', folder='db/')\n",
    "\n",
    "n = tc.int()\n",
    "x = tc.int()\n",
    "\n",
    "assert x ** 2 + 7 == 2 ** n\n",
    "\n",
    "while tc.satisfy([n, x]):\n",
    "    print(n, x)"
   ]
  }
 ],
 "metadata": {
  "kernelspec": {
   "display_name": "Python 3",
   "language": "python",
   "name": "python3"
  },
  "language_info": {
   "codemirror_mode": {
    "name": "ipython",
    "version": 3
   },
   "file_extension": ".py",
   "mimetype": "text/x-python",
   "name": "python",
   "nbconvert_exporter": "python",
   "pygments_lexer": "ipython3",
   "version": "3.7.3"
  }
 },
 "nbformat": 4,
 "nbformat_minor": 4
}
