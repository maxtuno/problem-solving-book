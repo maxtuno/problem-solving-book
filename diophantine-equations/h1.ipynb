{
 "cells": [
  {
   "cell_type": "markdown",
   "metadata": {},
   "source": [
    "One of Euler’s conjectures1 was disproved in the 1980s by three American Mathematicians when they showed that there is a positive integer $n$ such that $n^5 = 133^5 +110^5 +84^5 +27^5$. Find the value of n. (AIME 1989/9)"
   ]
  },
  {
   "cell_type": "code",
   "execution_count": null,
   "metadata": {},
   "outputs": [],
   "source": [
    "!pip install git+https://github.com/maxtuno/peqnp-lib"
   ]
  },
  {
   "cell_type": "code",
   "execution_count": 6,
   "metadata": {},
   "outputs": [],
   "source": [
    "import peqnp"
   ]
  },
  {
   "cell_type": "code",
   "execution_count": 8,
   "metadata": {},
   "outputs": [
    {
     "name": "stdout",
     "output_type": "stream",
     "text": [
      "144\n"
     ]
    }
   ],
   "source": [
    "m = 133 ** 5 + 110 ** 5 + 84 ** 5 + 27 ** 5\n",
    "\n",
    "tc = peqnp.TheCore(bits=m.bit_length(), key='h1', folder='db/')\n",
    "\n",
    "n = tc.int()\n",
    "\n",
    "assert n ** 5 == m\n",
    "\n",
    "while tc.satisfy([n]):\n",
    "    print(n)"
   ]
  },
  {
   "cell_type": "code",
   "execution_count": null,
   "metadata": {},
   "outputs": [],
   "source": []
  }
 ],
 "metadata": {
  "kernelspec": {
   "display_name": "Python 3",
   "language": "python",
   "name": "python3"
  },
  "language_info": {
   "codemirror_mode": {
    "name": "ipython",
    "version": 3
   },
   "file_extension": ".py",
   "mimetype": "text/x-python",
   "name": "python",
   "nbconvert_exporter": "python",
   "pygments_lexer": "ipython3",
   "version": "3.7.3"
  }
 },
 "nbformat": 4,
 "nbformat_minor": 4
}
